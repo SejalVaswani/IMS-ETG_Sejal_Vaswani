{
  "nbformat": 4,
  "nbformat_minor": 0,
  "metadata": {
    "colab": {
      "name": "ASSIGNMENT-1-IMS.ipynb",
      "provenance": [],
      "collapsed_sections": []
    },
    "kernelspec": {
      "display_name": "Python 3",
      "name": "python3"
    },
    "language_info": {
      "name": "python"
    }
  },
  "cells": [
    {
      "cell_type": "code",
      "metadata": {
        "id": "Zg7OBSWN9zh0"
      },
      "source": [
        "# Inventory management system.\n",
        "# Inventory has 30 items with 5 attributes.\n",
        "# We can calculate total number of items sold after user buys an item.\n",
        "# The sales are stored in a new file named sales\n",
        "\n"
      ],
      "execution_count": 2,
      "outputs": []
    },
    {
      "cell_type": "code",
      "metadata": {
        "id": "FgN1DfBQ-SC2"
      },
      "source": [
        "import json as js\n",
        "inventory = {}\n",
        "with open('record.json') as json_file:\n",
        "    inventory = js.load(json_file)\n",
        "inventory"
      ],
      "execution_count": null,
      "outputs": []
    },
    {
      "cell_type": "code",
      "metadata": {
        "id": "obAPc79kyy7g",
        "colab": {
          "base_uri": "https://localhost:8080/"
        },
        "outputId": "4f602e00-e621-4982-a9ad-cd9315affddf"
      },
      "source": [
        "for i in range(0,2):\n",
        "  print(\"**************************************\")\n",
        "print(\"\\n\\tWelcome to our store!\\n\\n\")\n",
        "for i in range(0,2):\n",
        "  print(\"**************************************\")\n",
        "sales = {}\n",
        "ch = int(input(\"\\nEnter your choice-\\n1.Do you wish to buy an item?\\n2.Do you wish to edit inventory?\\n\"))\n",
        "if ch == 1:\n",
        "  item = input(\"\\nWhich item do you wish to buy? \")\n",
        "\n",
        "  for i in range(len(inventory)):\n",
        "    ref = (19201+i)\n",
        "    ref = str(ref)\n",
        "    if inventory[ref]['Name'] == item:\n",
        "      break\n",
        "  if (inventory[ref] != item):\n",
        "    print(\"\\nItem not found.\")\n",
        "    print(\"\\n**************************************\")\n",
        "    print(\"\\n\\nThank you for visiting!\")\n",
        "    for k in range(0,2):\n",
        "      print(\"**************************************\")\n",
        "  else:\n",
        "    quantity = int(input(\"Enter the number of items you wish to buy: \"))\n",
        "    print(\"\\n**************************************\")\n",
        "    prod = []\n",
        "    if quantity > int(inventory[ref]['QTY']):\n",
        "      print(\"We've only \", inventory[ref]['QTY'], \" items\")    \n",
        "      ch = input(\"Would you like to buy them?\\n1. Yes\\n2.No\")\n",
        "      if ch == '2':\n",
        "        print(\"\\n\\nThank you for visiting!\")\n",
        "        for k in range(0,2):\n",
        "          print(\"**************************************\")\n",
        "          break\n",
        "      else:\n",
        "        inventory[ref]['Sales'] += quantity\n",
        "        inventory[ref]['QTY'] -= quantity\n",
        "        price = inventory[ref]['Price']*quantity\n",
        "        prod = str(inventory[ref]).split(',')\n",
        "        print(\"\\n\\n\")\n",
        "        for j in range(len(prod)):\n",
        "          print(prod[j])\n",
        "        print(\"\\n**************************************\")\n",
        "        print(\"\\nAmount: \", price)\n",
        "        print(\"\\n\\nThank you for visiting!\")\n",
        "        for k in range(0,2):\n",
        "          print(\"**************************************\")\n",
        "              \n",
        "        sales = inventory[ref]\n",
        "    else:\n",
        "      inventory[ref]['Sales'] += quantity\n",
        "      inventory[ref]['QTY'] -= quantity\n",
        "      price = inventory[ref]['Price']*quantity\n",
        "      prod = str(inventory[ref]).split(',')\n",
        "      print(\"\\n\\n\")\n",
        "      for j in range(len(prod)):\n",
        "        print(prod[j])\n",
        "      print(\"\\n**************************************\")\n",
        "      print(\"\\nAmount: \", price)\n",
        "      print(\"\\n\\nThank you for visiting!\")\n",
        "      for k in range(0,2):\n",
        "        print(\"**************************************\")\n",
        "            \n",
        "      sales = inventory[ref]\n",
        "elif ch == 2:\n",
        "  ref_no = (input(\"\\nEnter te product Id: \"))\n",
        "  inventory[ref_no] = {}\n",
        "  inventory[ref_no]['Name'] = input(\"Enter the product name: \")\n",
        "  inventory[ref_no]['QTY'] = (input(\"Enter the quantity of product: \"))\n",
        "  inventory[ref_no]['Sales'] = (input(\"Enter the sales: \"))\n",
        "  inventory[ref_no]['Price'] = (input(\"Enter the price per unit: \"))\n",
        "  inventory[ref_no]['Category'] = input(\"Enter the Category of the product: \")\n",
        "\n",
        "  print(\"\\n**************************************\")\n",
        "  print(\"\\n\\nThank you for visiting!\")\n",
        "  for k in range(0,2):\n",
        "   print(\"**************************************\")\n",
        "\n",
        "else:\n",
        "  print(\"\\n\\nInvalid choice.\")\n",
        "  print(\"\\n**************************************\")\n",
        "  print(\"\\n\\nThank you for visiting!\")\n",
        "  for k in range(0,2):\n",
        "    print(\"**************************************\")"
      ],
      "execution_count": 16,
      "outputs": [
        {
          "output_type": "stream",
          "name": "stdout",
          "text": [
            "**************************************\n",
            "**************************************\n",
            "\n",
            "\tWelcome to our store!\n",
            "\n",
            "\n",
            "**************************************\n",
            "**************************************\n",
            "\n",
            "Enter your choice-\n",
            "1.Do you wish to buy an item?\n",
            "2.Do you wish to edit inventory?\n",
            "1\n",
            "\n",
            "Which item do you wish to buy? s\n",
            "Item not found.\n",
            "\n",
            "**************************************\n",
            "\n",
            "\n",
            "Thank you for visiting!\n",
            "**************************************\n",
            "**************************************\n"
          ]
        }
      ]
    },
    {
      "cell_type": "code",
      "metadata": {
        "id": "2nmhLAcKAeO2"
      },
      "source": [
        "\n",
        "record = js.dumps(inventory)\n",
        "fd = open(\"record.json\", 'w')\n",
        "fd.write(record)\n",
        "fd.close()"
      ],
      "execution_count": null,
      "outputs": []
    },
    {
      "cell_type": "code",
      "metadata": {
        "id": "K1WvzxGwxq8v"
      },
      "source": [
        "fd = open(\"record.json\", 'r')\n",
        "txt = fd.read()\n",
        "fd.close()\n",
        "txt"
      ],
      "execution_count": null,
      "outputs": []
    },
    {
      "cell_type": "code",
      "metadata": {
        "id": "6eZ_xkRIwiQt"
      },
      "source": [
        "total_sales = js.dumps(sales)\n",
        "fd = open(\"sales.json\", 'a')\n",
        "fd.write(total_sales)\n",
        "fd.close()"
      ],
      "execution_count": null,
      "outputs": []
    },
    {
      "cell_type": "code",
      "metadata": {
        "id": "rhBHq3Z5x13v"
      },
      "source": [
        "fd = open(\"sales.json\", 'r')\n",
        "sold = fd.read()\n",
        "fd.close()\n",
        "sold"
      ],
      "execution_count": null,
      "outputs": []
    },
    {
      "cell_type": "code",
      "metadata": {
        "id": "wJJt77kVH28D"
      },
      "source": [
        ""
      ],
      "execution_count": null,
      "outputs": []
    }
  ]
}